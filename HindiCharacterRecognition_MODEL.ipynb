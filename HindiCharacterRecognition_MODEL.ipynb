{
 "cells": [
  {
   "cell_type": "code",
   "execution_count": 1,
   "metadata": {},
   "outputs": [
    {
     "name": "stderr",
     "output_type": "stream",
     "text": [
      "Using TensorFlow backend.\n"
     ]
    }
   ],
   "source": [
    "import numpy as np\n",
    "from keras import layers\n",
    "from keras.layers import Input, Dense, Activation, ZeroPadding2D, BatchNormalization, Flatten, Conv2D\n",
    "from keras.layers import MaxPooling2D, AveragePooling2D, Dropout, GlobalMaxPooling2D, GlobalAveragePooling2D\n",
    "from keras.utils import np_utils, print_summary\n",
    "import pandas as pd\n",
    "from keras.models import Sequential\n",
    "from keras.callbacks import ModelCheckpoint\n",
    "import keras.backend as K"
   ]
  },
  {
   "cell_type": "code",
   "execution_count": 2,
   "metadata": {},
   "outputs": [
    {
     "name": "stdout",
     "output_type": "stream",
     "text": [
      "(72000, 1025)\n"
     ]
    }
   ],
   "source": [
    "data = pd.read_csv('data.csv')\n",
    "print(data.shape)\n",
    "dataset = np.array(data)\n",
    "np.random.shuffle(dataset)"
   ]
  },
  {
   "cell_type": "code",
   "execution_count": 3,
   "metadata": {},
   "outputs": [],
   "source": [
    "x = dataset\n",
    "y = dataset\n",
    "\n",
    "x = x[:,0:1024]\n",
    "y = y[:,1024]\n",
    "\n",
    "x_train = x[0:70000,:]\n",
    "x_train = x_train/255.\n",
    "x_test = x[70000:72001,:]\n",
    "x_test = x_test/255.\n",
    "\n",
    "# Reshaping\n",
    "y = y.reshape(y.shape[0],1)\n",
    "y_train = y[0:70000,:]\n",
    "y_train = y_train.T\n",
    "y_test = y[70000:72001,:]\n",
    "y_test = y_test.T\n"
   ]
  },
  {
   "cell_type": "code",
   "execution_count": 4,
   "metadata": {},
   "outputs": [
    {
     "name": "stdout",
     "output_type": "stream",
     "text": [
      "Number of training examples = 70000\n",
      "Number of test examples = 2000\n",
      "x_train shape =(70000, 1024)\n",
      "x_test shape =(2000, 1024)\n",
      "y_train shape = (1, 70000)\n",
      "y_test shape = (1, 2000)\n"
     ]
    }
   ],
   "source": [
    "print('Number of training examples = '+str(x_train.shape[0]))\n",
    "print('Number of test examples = '+str(x_test.shape[0]))\n",
    "print('x_train shape ='+str(x_train.shape))\n",
    "print('x_test shape ='+str(x_test.shape))\n",
    "print('y_train shape = '+str(y_train.shape))\n",
    "print('y_test shape = '+str(y_test.shape))"
   ]
  },
  {
   "cell_type": "code",
   "execution_count": 5,
   "metadata": {},
   "outputs": [],
   "source": [
    "image_x = 32\n",
    "image_y = 32\n",
    "\n",
    "train_y = np_utils.to_categorical(y_train)\n",
    "test_y = np_utils.to_categorical(y_test)\n",
    "train_y = train_y.reshape(train_y.shape[1],train_y.shape[2])\n",
    "test_y = test_y.reshape(test_y.shape[1],test_y.shape[2])\n",
    "\n",
    "x_train = x_train.reshape(x_train.shape[0], image_x, image_y, 1)\n",
    "x_test = x_test.reshape(x_test.shape[0], image_x, image_y, 1)"
   ]
  },
  {
   "cell_type": "code",
   "execution_count": 6,
   "metadata": {},
   "outputs": [
    {
     "name": "stdout",
     "output_type": "stream",
     "text": [
      "x_train shape:(70000, 32, 32, 1)\n",
      "y_train shape:(70000, 37)\n"
     ]
    }
   ],
   "source": [
    "print('x_train shape:'+str(x_train.shape))\n",
    "print('y_train shape:'+str(train_y.shape))"
   ]
  },
  {
   "cell_type": "code",
   "execution_count": 7,
   "metadata": {},
   "outputs": [],
   "source": [
    "# Building Model.\n",
    "def keras_model(image_x, image_y):\n",
    "    num_of_classes = 37\n",
    "    model = Sequential()\n",
    "    model.add(Conv2D(filters = 32, kernel_size=(5,5),\n",
    "                    input_shape =(image_x,image_y,1),activation='relu'))\n",
    "    model.add(MaxPooling2D(pool_size=(2,2), strides=(2,2), padding='same'))\n",
    "    model.add(Conv2D(64, (5,5),activation='relu'))\n",
    "    model.add(Flatten())\n",
    "    model.add(Dense(num_of_classes, activation='softmax'))\n",
    "    model.compile(loss='categorical_crossentropy', optimizer='adam', metrics=['accuracy'])\n",
    "    filepath = 'hindi_character_recognition_model.h5'\n",
    "    checkpoint1 = ModelCheckpoint(filepath, monitor='val_acc', verbose=1, save_best_only=True, mode='max')\n",
    "    callbacks_list = [checkpoint1]\n",
    "    \n",
    "    return model,callbacks_list"
   ]
  },
  {
   "cell_type": "code",
   "execution_count": 8,
   "metadata": {},
   "outputs": [
    {
     "name": "stdout",
     "output_type": "stream",
     "text": [
      "<keras.engine.sequential.Sequential object at 0x0000013D7CD4C608>\n",
      "Train on 70000 samples, validate on 2000 samples\n",
      "Epoch 1/1\n",
      "70000/70000 [==============================] - 149s 2ms/step - loss: 0.4677 - accuracy: 0.8666 - val_loss: 0.1625 - val_accuracy: 0.9485\n"
     ]
    },
    {
     "name": "stderr",
     "output_type": "stream",
     "text": [
      "C:\\Users\\jigyasa\\Documents\\satyam anaconda\\envs\\tensorflow\\lib\\site-packages\\keras\\callbacks\\callbacks.py:707: RuntimeWarning: Can save best model only with val_acc available, skipping.\n",
      "  'skipping.' % (self.monitor), RuntimeWarning)\n"
     ]
    },
    {
     "name": "stdout",
     "output_type": "stream",
     "text": [
      "CNN Error : 5.15%\n",
      "Model: \"sequential_1\"\n",
      "_________________________________________________________________\n",
      "Layer (type)                 Output Shape              Param #   \n",
      "=================================================================\n",
      "conv2d_1 (Conv2D)            (None, 28, 28, 32)        832       \n",
      "_________________________________________________________________\n",
      "max_pooling2d_1 (MaxPooling2 (None, 14, 14, 32)        0         \n",
      "_________________________________________________________________\n",
      "conv2d_2 (Conv2D)            (None, 10, 10, 64)        51264     \n",
      "_________________________________________________________________\n",
      "flatten_1 (Flatten)          (None, 6400)              0         \n",
      "_________________________________________________________________\n",
      "dense_1 (Dense)              (None, 37)                236837    \n",
      "=================================================================\n",
      "Total params: 288,933\n",
      "Trainable params: 288,933\n",
      "Non-trainable params: 0\n",
      "_________________________________________________________________\n"
     ]
    }
   ],
   "source": [
    "#Training the model.\n",
    "model, callbacks_list = keras_model(image_x, image_y)\n",
    "print(model)\n",
    "model.fit(x_train, train_y , validation_data =(x_test, test_y), epochs=1 , batch_size=64 , callbacks=callbacks_list)\n",
    "scores = model.evaluate(x_test, test_y, verbose=0)\n",
    "print('CNN Error : %.2f%%'%(100-scores[1]*100))\n",
    "print_summary(model)\n",
    "model.save('hindi_character_recognition_model.h5')"
   ]
  }
 ],
 "metadata": {
  "kernelspec": {
   "display_name": "Python 3.7 (tensorflow)",
   "language": "python",
   "name": "tensorflow"
  },
  "language_info": {
   "codemirror_mode": {
    "name": "ipython",
    "version": 3
   },
   "file_extension": ".py",
   "mimetype": "text/x-python",
   "name": "python",
   "nbconvert_exporter": "python",
   "pygments_lexer": "ipython3",
   "version": "3.7.6"
  }
 },
 "nbformat": 4,
 "nbformat_minor": 4
}
