{
 "cells": [
  {
   "cell_type": "code",
   "execution_count": 1,
   "metadata": {},
   "outputs": [
    {
     "name": "stderr",
     "output_type": "stream",
     "text": [
      "Using TensorFlow backend.\n"
     ]
    }
   ],
   "source": [
    "import cv2\n",
    "from keras.models import load_model\n",
    "import numpy as np\n",
    "from collections import deque"
   ]
  },
  {
   "cell_type": "code",
   "execution_count": 2,
   "metadata": {},
   "outputs": [
    {
     "name": "stdout",
     "output_type": "stream",
     "text": [
      "<keras.engine.sequential.Sequential object at 0x00000211FC7EF548>\n"
     ]
    }
   ],
   "source": [
    "model = load_model('hindi_character_recognition_model.h5')\n",
    "print(model)"
   ]
  },
  {
   "cell_type": "code",
   "execution_count": 3,
   "metadata": {},
   "outputs": [],
   "source": [
    "letter_count = {0:'CHECK',1:'ka',2:'kha', 3:'ga', 4:'gha', 5:'kna', 6:'cha',\n",
    "                7:'chha', 8:'ja', 9:'jha',10:'yna', 11:'tamaatar',12:'thaa', 13:'daa', 14:'dhaa',\n",
    "                15:'adna', 16:'tabala', 17:'tha', 18:'da', 19:'dha', 20:'na', 21:'pa',\n",
    "                22:'pha',23:'ba', 24:'bha', 25:'ma', 26:'yaw', 27:'ra', 28:'la', 29:'waw',\n",
    "                30:'motosaw', 31:'petchiryakha', 32:'patalosaw', 33:'ha', 34:'chhya', 35:'tra',36:'gya', 37:'CHECK'}"
   ]
  },
  {
   "cell_type": "code",
   "execution_count": 4,
   "metadata": {},
   "outputs": [],
   "source": [
    "def keras_predict(model,image):\n",
    "    processed = keras_process_image(image)\n",
    "    print('Processed :'+str(processed.shape))\n",
    "    pred_probab = model.predict(processed)[0]\n",
    "    pred_class = list(pred_probab).index(max(pred_probab))\n",
    "    \n",
    "    return max(pred_probab),pred_class"
   ]
  },
  {
   "cell_type": "code",
   "execution_count": 5,
   "metadata": {},
   "outputs": [],
   "source": [
    "def keras_process_image(img):\n",
    "    image_x = 32\n",
    "    image_y = 32\n",
    "    img = cv2.resize(img,(image_x,image_y))\n",
    "    img = np.array(img,dtype=np.float32)\n",
    "    img = np.reshape(img,(-1, image_x, image_y, 1))\n",
    "    return img"
   ]
  },
  {
   "cell_type": "code",
   "execution_count": null,
   "metadata": {},
   "outputs": [
    {
     "name": "stdout",
     "output_type": "stream",
     "text": [
      "8208.0\n",
      "Processed :(1, 32, 32, 1)\n",
      "27 1.0\n",
      "286.0\n",
      "7079.5\n",
      "Processed :(1, 32, 32, 1)\n",
      "9 1.0\n",
      "2652.0\n",
      "Processed :(1, 32, 32, 1)\n",
      "21 1.0\n",
      "4091.0\n",
      "Processed :(1, 32, 32, 1)\n",
      "21 1.0\n",
      "4828.5\n",
      "Processed :(1, 32, 32, 1)\n",
      "24 1.0\n",
      "3705.5\n",
      "Processed :(1, 32, 32, 1)\n",
      "35 1.0\n"
     ]
    }
   ],
   "source": [
    "cap = cv2.VideoCapture(0)\n",
    "lower_blue = np.array([110,50,50])\n",
    "upper_blue = np.array([130,255,255])\n",
    "pred_class = 0\n",
    "pts = deque(maxlen = 512)\n",
    "blackboard = np.zeros((480,640,3),dtype=np.uint8)\n",
    "digit = np.zeros((200, 200, 3),dtype=np.uint8)\n",
    "while(cap.isOpened()):\n",
    "    ret, img = cap.read()\n",
    "    img = cv2.flip(img,1)\n",
    "    img_hsv = cv2.cvtColor(img, cv2.COLOR_BGR2HSV)\n",
    "    mask = cv2.inRange(img_hsv, lower_blue, upper_blue)\n",
    "    blur = cv2.medianBlur(mask,15)\n",
    "    blur = cv2.GaussianBlur(blur,(5,5),0)\n",
    "    thresh = cv2.threshold(blur,0,255,cv2.THRESH_BINARY + cv2.THRESH_OTSU)[1]\n",
    "    \n",
    "    cnts = cv2.findContours(thresh.copy(),cv2.RETR_TREE, cv2.CHAIN_APPROX_NONE)[1]\n",
    "    center = None\n",
    "    if len(cnts)>=1:\n",
    "        contour = max(cnts, key = cv2.contourArea)\n",
    "        if cv2.contourArea(contour)>250:\n",
    "            ((x,y),radius)= cv2.minEnclosingCircle(contour)\n",
    "            cv2.circle(img, (int(x), int(y)), int(radius),(0,255,255),2)\n",
    "                \n",
    "            cv2.circle(img, center, 5, (0,0,255),-1)\n",
    "            M = cv2.moments(contour)\n",
    "                \n",
    "            center = (int(M['m10']/M['m00']), int(M['m01']/M['m00']))\n",
    "                \n",
    "            pts.appendleft(center)\n",
    "                \n",
    "            for i in range(1,len(pts)):\n",
    "                if pts[i-1] is None or pts[i] is None:\n",
    "                    continue\n",
    "                cv2.line(blackboard, pts[i-1],pts[i],(255,255,255),10)\n",
    "                cv2.line(img, pts[i-1],pts[i],(0,0,255),5)\n",
    "    elif len(cnts)==0:\n",
    "        if len(pts)!=[]:\n",
    "            blackboard_gray = cv2.cvtColor(blackboard , cv2.COLOR_BGR2GRAY)\n",
    "            blur1 = cv2.medianBlur(blackboard_gray,15)\n",
    "            blur1 = cv2.GaussianBlur(blur1,(5,5),0)\n",
    "                \n",
    "            thresh1 = cv2.threshold(blur1, 0, 255, cv2.THRESH_BINARY +cv2.THRESH_OTSU)[1]\n",
    "                \n",
    "            blackboard_cnts = cv2.findContours(thresh1.copy(), cv2.RETR_TREE, cv2.CHAIN_APPROX_NONE)[1]\n",
    "                \n",
    "            if len(blackboard_cnts)>=1:\n",
    "                cnt = max(blackboard_cnts, key=cv2.contourArea)\n",
    "                    \n",
    "                print(cv2.contourArea(cnt))\n",
    "                if cv2.contourArea(cnt)>2000:\n",
    "                    x,y,w,h = cv2.boundingRect(cnt)\n",
    "                        \n",
    "                    digit = blackboard_gray[y:y+h , x:x+w]\n",
    "                    pred_probab, pred_class = keras_predict(model,digit)\n",
    "                    print(pred_class, pred_probab)\n",
    "                pts = deque(maxlen=512)\n",
    "                blackboard = np.zeros((480,640,3),dtype=np.uint8)\n",
    "                    \n",
    "    cv2.putText(img,\"Conv Network :\"+str(letter_count[pred_class]),(10,470),cv2.FONT_HERSHEY_SIMPLEX,0.7,\n",
    "                   (0,0,255),2)\n",
    "        \n",
    "    cv2.imshow(\"Frame:\",img)\n",
    "    cv2.imshow(\"Contours:\",thresh)\n",
    "    k = cv2.waitKey(10)\n",
    "    if k==27:\n",
    "        break\n"
   ]
  }
 ],
 "metadata": {
  "kernelspec": {
   "display_name": "Python 3.7 (tensorflow)",
   "language": "python",
   "name": "tensorflow"
  },
  "language_info": {
   "codemirror_mode": {
    "name": "ipython",
    "version": 3
   },
   "file_extension": ".py",
   "mimetype": "text/x-python",
   "name": "python",
   "nbconvert_exporter": "python",
   "pygments_lexer": "ipython3",
   "version": "3.7.6"
  }
 },
 "nbformat": 4,
 "nbformat_minor": 4
}
