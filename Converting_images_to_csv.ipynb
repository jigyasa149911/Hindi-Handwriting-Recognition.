{
 "cells": [
  {
   "cell_type": "code",
   "execution_count": 1,
   "metadata": {},
   "outputs": [],
   "source": [
    "import os\n",
    "\n",
    "import numpy as np\n",
    "import pandas as pd\n",
    "from scipy.misc import imread\n",
    "from sklearn.linear_model import RidgeClassifier\n",
    "from sklearn.naive_bayes import BernoulliNB, GaussianNB\n",
    "from sklearn.tree import ExtraTreeClassifier, DecisionTreeClassifier\n",
    "from sklearn.neighbors import NearestCentroid, KNeighborsClassifier\n",
    "from sklearn.ensemble import ExtraTreesClassifier, RandomForestClassifier\n",
    "from sklearn.model_selection import cross_validate, GridSearchCV, learning_curve\n",
    "from sklearn.preprocessing import LabelEncoder\n",
    "\n",
    "import matplotlib.pyplot as plt"
   ]
  },
  {
   "cell_type": "code",
   "execution_count": 2,
   "metadata": {},
   "outputs": [
    {
     "name": "stdout",
     "output_type": "stream",
     "text": [
      "="
     ]
    },
    {
     "name": "stderr",
     "output_type": "stream",
     "text": [
      "C:\\Users\\jigyasa\\Documents\\satyam anaconda\\lib\\site-packages\\ipykernel_launcher.py:12: DeprecationWarning: `imread` is deprecated!\n",
      "`imread` is deprecated in SciPy 1.0.0, and will be removed in 1.2.0.\n",
      "Use ``imageio.imread`` instead.\n",
      "  if sys.path[0] == '':\n"
     ]
    },
    {
     "name": "stdout",
     "output_type": "stream",
     "text": [
      "===================================="
     ]
    }
   ],
   "source": [
    "root_dir = os.getcwd()\n",
    "img_dir = os.path.join(root_dir, 'DevanagariHandwrittenCharacterDataset/Train')\n",
    "\n",
    "pixels = np.array(['pixel_{:04d}'.format(x) for x in range(1024)])\n",
    "flag = True\n",
    "\n",
    "for char_name in sorted(os.listdir(img_dir)):\n",
    "    char_dir = os.path.join(img_dir, char_name)\n",
    "    img_df = pd.DataFrame(columns=pixels)\n",
    "    \n",
    "    for img_file in sorted(os.listdir(char_dir)):\n",
    "        image = pd.Series(imread(os.path.join(char_dir, img_file)).flatten(), index=pixels)\n",
    "        img_df = img_df.append(image.T, ignore_index=True)\n",
    "        \n",
    "    img_df = img_df.astype(np.uint8)\n",
    "    img_df['character'] = char_name\n",
    "    \n",
    "    img_df.to_csv('data_hindi.csv', index=False, mode='a', header=flag)\n",
    "    flag=False\n",
    "    \n",
    "    print('=', end='')\n",
    "    \n",
    "    \n",
    "df = pd.read_csv('data_hindi.csv')\n",
    "\n",
    "df['character_class'] = LabelEncoder().fit_transform(df.character)\n",
    "df.drop('character', axis=1, inplace=True)\n",
    "df = df.astype(np.uint8)"
   ]
  },
  {
   "cell_type": "code",
   "execution_count": 2,
   "metadata": {},
   "outputs": [
    {
     "name": "stderr",
     "output_type": "stream",
     "text": [
      "C:\\Users\\jigyasa\\Documents\\satyam anaconda\\lib\\site-packages\\ipykernel_launcher.py:12: DeprecationWarning: `imread` is deprecated!\n",
      "`imread` is deprecated in SciPy 1.0.0, and will be removed in 1.2.0.\n",
      "Use ``imageio.imread`` instead.\n",
      "  if sys.path[0] == '':\n"
     ]
    },
    {
     "name": "stdout",
     "output_type": "stream",
     "text": [
      "=============================================="
     ]
    }
   ],
   "source": [
    "root_dir = os.getcwd()\n",
    "img_dir = os.path.join(root_dir, 'DevanagariHandwrittenCharacterDataset/Test')\n",
    "\n",
    "pixels = np.array(['pixel_{:04d}'.format(x) for x in range(1024)])\n",
    "flag = True\n",
    "\n",
    "for char_name in sorted(os.listdir(img_dir)):\n",
    "    char_dir = os.path.join(img_dir, char_name)\n",
    "    img_df = pd.DataFrame(columns=pixels)\n",
    "    \n",
    "    for img_file in sorted(os.listdir(char_dir)):\n",
    "        image = pd.Series(imread(os.path.join(char_dir, img_file)).flatten(), index=pixels)\n",
    "        img_df = img_df.append(image.T, ignore_index=True)\n",
    "        \n",
    "    img_df = img_df.astype(np.uint8)\n",
    "    img_df['character'] = char_name\n",
    "    \n",
    "    img_df.to_csv('data_hindi_test.csv', index=False, mode='a', header=flag)\n",
    "    flag=False\n",
    "    \n",
    "    print('=', end='')\n",
    "    \n",
    "    \n",
    "df = pd.read_csv('data_hindi_test.csv')\n",
    "\n",
    "df['character_class'] = LabelEncoder().fit_transform(df.character)\n",
    "df.drop('character', axis=1, inplace=True)\n",
    "df = df.astype(np.uint8)"
   ]
  },
  {
   "cell_type": "code",
   "execution_count": null,
   "metadata": {},
   "outputs": [],
   "source": [
    "data = pd.read_csv('data_hindi')\n",
    "data = pd.read_csv('data')"
   ]
  }
 ],
 "metadata": {
  "kernelspec": {
   "display_name": "Python 3",
   "language": "python",
   "name": "python3"
  },
  "language_info": {
   "codemirror_mode": {
    "name": "ipython",
    "version": 3
   },
   "file_extension": ".py",
   "mimetype": "text/x-python",
   "name": "python",
   "nbconvert_exporter": "python",
   "pygments_lexer": "ipython3",
   "version": "3.7.6"
  }
 },
 "nbformat": 4,
 "nbformat_minor": 2
}
